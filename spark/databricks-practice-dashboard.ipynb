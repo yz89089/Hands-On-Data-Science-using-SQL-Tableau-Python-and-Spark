{
 "cells": [
  {
   "cell_type": "code",
   "execution_count": 0,
   "metadata": {
    "application/vnd.databricks.v1+cell": {
     "cellMetadata": {
      "byteLimit": 2048000,
      "implicitDf": true,
      "rowLimit": 10000
     },
     "inputWidgets": {},
     "nuid": "590c46ec-9506-476d-87b0-1fd68d76f9df",
     "showTitle": false,
     "tableResultSettingsMap": {},
     "title": ""
    }
   },
   "outputs": [
    {
     "output_type": "display_data",
     "data": {
      "text/html": [
       "<style scoped>\n",
       "  .table-result-container {\n",
       "    max-height: 300px;\n",
       "    overflow: auto;\n",
       "  }\n",
       "  table, th, td {\n",
       "    border: 1px solid black;\n",
       "    border-collapse: collapse;\n",
       "  }\n",
       "  th, td {\n",
       "    padding: 5px;\n",
       "  }\n",
       "  th {\n",
       "    text-align: left;\n",
       "  }\n",
       "</style><div class='table-result-container'><table class='table-result'><thead style='background-color: white'><tr><th>OrderMonthYear</th><th>Sales</th></tr></thead><tbody><tr><td>2010-12-01</td><td>658678.4900000002</td></tr><tr><td>2009-05-01</td><td>637481.3899999998</td></tr><tr><td>2009-01-01</td><td>734559.3599999996</td></tr><tr><td>2012-09-01</td><td>746258.8299999995</td></tr><tr><td>2010-03-01</td><td>529839.6000000002</td></tr><tr><td>2012-10-01</td><td>686499.5099999993</td></tr><tr><td>2010-05-01</td><td>748098.0000000003</td></tr><tr><td>2011-01-01</td><td>495309.26000000007</td></tr><tr><td>2011-03-01</td><td>568968.4600000002</td></tr><tr><td>2009-09-01</td><td>648992.75</td></tr><tr><td>2010-09-01</td><td>664165.0500000003</td></tr><tr><td>2009-06-01</td><td>555516.2199999999</td></tr><tr><td>2009-10-01</td><td>570492.5099999999</td></tr><tr><td>2009-02-01</td><td>539887.7999999998</td></tr><tr><td>2009-12-01</td><td>560232.9200000002</td></tr><tr><td>2011-09-01</td><td>546311.0599999998</td></tr><tr><td>2012-03-01</td><td>663876.6600000004</td></tr><tr><td>2012-04-01</td><td>644937.6699999998</td></tr><tr><td>2010-01-01</td><td>577908.3700000001</td></tr><tr><td>2010-11-01</td><td>612978.8400000003</td></tr><tr><td>2010-07-01</td><td>584327.2599999997</td></tr><tr><td>2010-02-01</td><td>586651.7600000002</td></tr><tr><td>2012-02-01</td><td>568369.2700000003</td></tr><tr><td>2009-07-01</td><td>670807.13</td></tr><tr><td>2011-07-01</td><td>597472.7899999998</td></tr><tr><td>2009-08-01</td><td>660353.6399999995</td></tr><tr><td>2009-04-01</td><td>614983.31</td></tr><tr><td>2010-08-01</td><td>622679.6900000004</td></tr><tr><td>2010-04-01</td><td>490967.0900000001</td></tr><tr><td>2011-02-01</td><td>580321.9899999998</td></tr><tr><td>2011-12-01</td><td>685090.8100000002</td></tr><tr><td>2012-05-01</td><td>791906.5300000003</td></tr><tr><td>2010-06-01</td><td>611528.2600000001</td></tr><tr><td>2011-05-01</td><td>704810.65</td></tr><tr><td>2009-03-01</td><td>559449.9600000002</td></tr><tr><td>2012-08-01</td><td>676695.64</td></tr><tr><td>2011-04-01</td><td>634585.7599999999</td></tr><tr><td>2011-06-01</td><td>556900.99</td></tr><tr><td>2012-06-01</td><td>538030.1399999997</td></tr><tr><td>2009-11-01</td><td>566171.2399999998</td></tr><tr><td>2012-01-01</td><td>614104.2200000001</td></tr><tr><td>2012-12-01</td><td>550921.89</td></tr><tr><td>2012-07-01</td><td>607933.3999999998</td></tr><tr><td>2010-10-01</td><td>662096.0899999995</td></tr><tr><td>2011-11-01</td><td>592957.9600000001</td></tr><tr><td>2011-10-01</td><td>558738.0700000004</td></tr><tr><td>2011-08-01</td><td>511388.6199999998</td></tr><tr><td>2012-11-01</td><td>473760.5700000001</td></tr></tbody></table></div>"
      ]
     },
     "metadata": {
      "application/vnd.databricks.v1+output": {
       "addedWidgets": {},
       "aggData": [],
       "aggError": "",
       "aggOverflow": false,
       "aggSchema": [],
       "aggSeriesLimitReached": false,
       "aggType": "",
       "arguments": {},
       "columnCustomDisplayInfos": {},
       "data": [
        [
         "2010-12-01",
         658678.4900000002
        ],
        [
         "2009-05-01",
         637481.3899999998
        ],
        [
         "2009-01-01",
         734559.3599999996
        ],
        [
         "2012-09-01",
         746258.8299999995
        ],
        [
         "2010-03-01",
         529839.6000000002
        ],
        [
         "2012-10-01",
         686499.5099999993
        ],
        [
         "2010-05-01",
         748098.0000000003
        ],
        [
         "2011-01-01",
         495309.26000000007
        ],
        [
         "2011-03-01",
         568968.4600000002
        ],
        [
         "2009-09-01",
         648992.75
        ],
        [
         "2010-09-01",
         664165.0500000003
        ],
        [
         "2009-06-01",
         555516.2199999999
        ],
        [
         "2009-10-01",
         570492.5099999999
        ],
        [
         "2009-02-01",
         539887.7999999998
        ],
        [
         "2009-12-01",
         560232.9200000002
        ],
        [
         "2011-09-01",
         546311.0599999998
        ],
        [
         "2012-03-01",
         663876.6600000004
        ],
        [
         "2012-04-01",
         644937.6699999998
        ],
        [
         "2010-01-01",
         577908.3700000001
        ],
        [
         "2010-11-01",
         612978.8400000003
        ],
        [
         "2010-07-01",
         584327.2599999997
        ],
        [
         "2010-02-01",
         586651.7600000002
        ],
        [
         "2012-02-01",
         568369.2700000003
        ],
        [
         "2009-07-01",
         670807.13
        ],
        [
         "2011-07-01",
         597472.7899999998
        ],
        [
         "2009-08-01",
         660353.6399999995
        ],
        [
         "2009-04-01",
         614983.31
        ],
        [
         "2010-08-01",
         622679.6900000004
        ],
        [
         "2010-04-01",
         490967.0900000001
        ],
        [
         "2011-02-01",
         580321.9899999998
        ],
        [
         "2011-12-01",
         685090.8100000002
        ],
        [
         "2012-05-01",
         791906.5300000003
        ],
        [
         "2010-06-01",
         611528.2600000001
        ],
        [
         "2011-05-01",
         704810.65
        ],
        [
         "2009-03-01",
         559449.9600000002
        ],
        [
         "2012-08-01",
         676695.64
        ],
        [
         "2011-04-01",
         634585.7599999999
        ],
        [
         "2011-06-01",
         556900.99
        ],
        [
         "2012-06-01",
         538030.1399999997
        ],
        [
         "2009-11-01",
         566171.2399999998
        ],
        [
         "2012-01-01",
         614104.2200000001
        ],
        [
         "2012-12-01",
         550921.89
        ],
        [
         "2012-07-01",
         607933.3999999998
        ],
        [
         "2010-10-01",
         662096.0899999995
        ],
        [
         "2011-11-01",
         592957.9600000001
        ],
        [
         "2011-10-01",
         558738.0700000004
        ],
        [
         "2011-08-01",
         511388.6199999998
        ],
        [
         "2012-11-01",
         473760.5700000001
        ]
       ],
       "datasetInfos": [],
       "dbfsResultPath": null,
       "isJsonSchema": true,
       "metadata": {},
       "overflow": false,
       "plotOptions": {
        "customPlotOptions": {},
        "displayType": "table",
        "pivotAggregation": null,
        "pivotColumns": null,
        "xColumns": null,
        "yColumns": null
       },
       "removedWidgets": [],
       "schema": [
        {
         "metadata": "{\"__detected_date_formats\":\"yyyy-M-d\"}",
         "name": "OrderMonthYear",
         "type": "\"date\""
        },
        {
         "metadata": "{}",
         "name": "Sales",
         "type": "\"double\""
        }
       ],
       "type": "table"
      }
     },
     "output_type": "display_data"
    },
    {
     "output_type": "display_data",
     "data": {
      "text/plain": [
       "Databricks visualization. Run in Databricks to view."
      ]
     },
     "metadata": {
      "application/vnd.databricks.v1.subcommand+json": {
       "baseErrorDetails": null,
       "bindings": {},
       "collapsed": false,
       "command": "%sql WITH q AS (select OrderMonthYear, sum(SaleAmount) Sales \nfrom cogsleyservices_salesdata_us_csv\ngroup by OrderMonthYear) SELECT `OrderMonthYear`,AVG(`Sales`) `column_ab28602523` FROM q GROUP BY `OrderMonthYear`",
       "commandTitle": "sales trend",
       "commandType": "auto",
       "commandVersion": 0,
       "commentThread": [],
       "commentsVisible": false,
       "contentSha256Hex": null,
       "customPlotOptions": {
        "redashChart": [
         {
          "key": "type",
          "value": "CHART"
         },
         {
          "key": "options",
          "value": {
           "alignYAxesAtZero": false,
           "coefficient": 1,
           "columnConfigurationMap": {
            "x": {
             "column": "OrderMonthYear",
             "id": "column_ab28602522"
            },
            "y": [
             {
              "column": "Sales",
              "id": "column_ab28602523",
              "transform": "AVG"
             }
            ]
           },
           "dateTimeFormat": "DD/MM/YYYY HH:mm",
           "direction": {
            "type": "counterclockwise"
           },
           "error_y": {
            "type": "data",
            "visible": true
           },
           "globalSeriesType": "line",
           "isAggregationOn": true,
           "legend": {
            "traceorder": "normal"
           },
           "missingValuesAsZero": true,
           "numberFormat": "0,0.[00000]",
           "percentFormat": "0[.]00%",
           "series": {
            "error_y": {
             "type": "data",
             "visible": true
            },
            "stacking": null
           },
           "seriesOptions": {
            "column_ab28602523": {
             "name": "Sales",
             "type": "line",
             "yAxis": 0
            }
           },
           "showDataLabels": false,
           "sizemode": "diameter",
           "sortX": true,
           "sortY": true,
           "swappedAxes": false,
           "textFormat": "",
           "useAggregationsUi": true,
           "valuesOptions": {},
           "version": 2,
           "xAxis": {
            "labels": {
             "enabled": true
            },
            "type": "-"
           },
           "yAxis": [
            {
             "rangeMin": 0,
             "type": "-"
            },
            {
             "opposite": true,
             "type": "-"
            }
           ]
          }
         }
        ]
       },
       "datasetPreviewNameToCmdIdMap": {},
       "diffDeletes": [],
       "diffInserts": [],
       "displayType": "redashChart",
       "error": null,
       "errorDetails": null,
       "errorSummary": null,
       "errorTraceType": null,
       "finishTime": 0,
       "globalVars": {},
       "guid": "",
       "height": "auto",
       "hideCommandCode": false,
       "hideCommandResult": false,
       "iPythonMetadata": null,
       "inputWidgets": {},
       "isLockedInExamMode": false,
       "latestUser": "a user",
       "latestUserId": null,
       "listResultMetadata": null,
       "metadata": {
        "byteLimit": 2048000,
        "implicitDf": true,
        "rowLimit": 10000
       },
       "nuid": "912a16d2-887a-4b72-963a-56bcd3b46592",
       "origId": 0,
       "parentHierarchy": [],
       "pivotAggregation": null,
       "pivotColumns": null,
       "position": 2.0,
       "resultDbfsErrorMessage": null,
       "resultDbfsStatus": "INLINED_IN_TREE",
       "results": null,
       "showCommandTitle": false,
       "startTime": 0,
       "state": "finished",
       "streamStates": {},
       "subcommandOptions": {
        "queryPlan": {
         "groups": [
          {
           "column": "OrderMonthYear",
           "type": "column"
          }
         ],
         "selects": [
          {
           "column": "OrderMonthYear",
           "type": "column"
          },
          {
           "alias": "column_ab28602523",
           "args": [
            {
             "column": "Sales",
             "type": "column"
            }
           ],
           "function": "AVG",
           "type": "function"
          }
         ]
        }
       },
       "submitTime": 0,
       "subtype": "tableResultSubCmd.visualization",
       "tableResultIndex": 0,
       "tableResultSettingsMap": {},
       "useConsistentColors": false,
       "version": "CommandV1",
       "width": "auto",
       "workflows": [],
       "xColumns": null,
       "yColumns": null
      }
     },
     "output_type": "display_data"
    }
   ],
   "source": [
    "%sql\n",
    "-- sales trend\n",
    "select OrderMonthYear, sum(SaleAmount) Sales \n",
    "from cogsleyservices_salesdata_us_csv\n",
    "group by OrderMonthYear"
   ]
  },
  {
   "cell_type": "code",
   "execution_count": 0,
   "metadata": {
    "application/vnd.databricks.v1+cell": {
     "cellMetadata": {
      "byteLimit": 2048000,
      "implicitDf": true,
      "rowLimit": 10000
     },
     "inputWidgets": {},
     "nuid": "8cad532d-b227-4d23-811e-d9362ae3100a",
     "showTitle": false,
     "tableResultSettingsMap": {},
     "title": ""
    }
   },
   "outputs": [
    {
     "output_type": "display_data",
     "data": {
      "text/html": [
       "<style scoped>\n",
       "  .table-result-container {\n",
       "    max-height: 300px;\n",
       "    overflow: auto;\n",
       "  }\n",
       "  table, th, td {\n",
       "    border: 1px solid black;\n",
       "    border-collapse: collapse;\n",
       "  }\n",
       "  th, td {\n",
       "    padding: 5px;\n",
       "  }\n",
       "  th {\n",
       "    text-align: left;\n",
       "  }\n",
       "</style><div class='table-result-container'><table class='table-result'><thead style='background-color: white'><tr><th>CustomerName</th><th>TotalSales</th></tr></thead><tbody><tr><td>Ed Yedwab</td><td>150878.88</td></tr><tr><td>Darren Perrino</td><td>144197.62000000005</td></tr><tr><td>Brad Fisher</td><td>120004.52000000002</td></tr><tr><td>Carlos McAfee</td><td>119420.40000000002</td></tr><tr><td>Quincy Patterson</td><td>116920.88000000002</td></tr><tr><td>Sally Knudson</td><td>115734.59999999999</td></tr><tr><td>Mark Nockton</td><td>105366.68999999997</td></tr><tr><td>Grant Jackson</td><td>102662.33</td></tr><tr><td>Roy Peterman</td><td>101933.58000000003</td></tr><tr><td>Giulietta Ferguson</td><td>100137.68</td></tr></tbody></table></div>"
      ]
     },
     "metadata": {
      "application/vnd.databricks.v1+output": {
       "addedWidgets": {},
       "aggData": [],
       "aggError": "",
       "aggOverflow": false,
       "aggSchema": [],
       "aggSeriesLimitReached": false,
       "aggType": "",
       "arguments": {},
       "columnCustomDisplayInfos": {},
       "data": [
        [
         "Ed Yedwab",
         150878.88
        ],
        [
         "Darren Perrino",
         144197.62000000005
        ],
        [
         "Brad Fisher",
         120004.52000000002
        ],
        [
         "Carlos McAfee",
         119420.40000000002
        ],
        [
         "Quincy Patterson",
         116920.88000000002
        ],
        [
         "Sally Knudson",
         115734.59999999999
        ],
        [
         "Mark Nockton",
         105366.68999999997
        ],
        [
         "Grant Jackson",
         102662.33
        ],
        [
         "Roy Peterman",
         101933.58000000003
        ],
        [
         "Giulietta Ferguson",
         100137.68
        ]
       ],
       "datasetInfos": [],
       "dbfsResultPath": null,
       "isJsonSchema": true,
       "metadata": {},
       "overflow": false,
       "plotOptions": {
        "customPlotOptions": {},
        "displayType": "table",
        "pivotAggregation": null,
        "pivotColumns": null,
        "xColumns": null,
        "yColumns": null
       },
       "removedWidgets": [],
       "schema": [
        {
         "metadata": "{}",
         "name": "CustomerName",
         "type": "\"string\""
        },
        {
         "metadata": "{}",
         "name": "TotalSales",
         "type": "\"double\""
        }
       ],
       "type": "table"
      }
     },
     "output_type": "display_data"
    },
    {
     "output_type": "display_data",
     "data": {
      "text/plain": [
       "Databricks visualization. Run in Databricks to view."
      ]
     },
     "metadata": {
      "application/vnd.databricks.v1.subcommand+json": {
       "baseErrorDetails": null,
       "bindings": {},
       "collapsed": false,
       "command": "%sql WITH q AS (select CustomerName, sum(SaleAmount) TotalSales \nfrom cogsleyservices_salesdata_us_csv\ngroup by CustomerName\norder by 2 desc \nlimit 10) SELECT `CustomerName`,SUM(`TotalSales`) `column_ab28602529` FROM q GROUP BY `CustomerName`",
       "commandTitle": "top customers",
       "commandType": "auto",
       "commandVersion": 0,
       "commentThread": [],
       "commentsVisible": false,
       "contentSha256Hex": null,
       "customPlotOptions": {
        "redashChart": [
         {
          "key": "type",
          "value": "CHART"
         },
         {
          "key": "options",
          "value": {
           "alignYAxesAtZero": true,
           "coefficient": 1,
           "columnConfigurationMap": {
            "x": {
             "column": "CustomerName",
             "id": "column_ab28602528"
            },
            "y": [
             {
              "column": "TotalSales",
              "id": "column_ab28602529",
              "transform": "SUM"
             }
            ]
           },
           "dateTimeFormat": "DD/MM/YYYY HH:mm",
           "direction": {
            "type": "counterclockwise"
           },
           "error_y": {
            "type": "data",
            "visible": true
           },
           "globalSeriesType": "column",
           "isAggregationOn": true,
           "legend": {
            "traceorder": "normal"
           },
           "missingValuesAsZero": true,
           "numberFormat": "0,0.[00000]",
           "percentFormat": "0[.]00%",
           "series": {
            "error_y": {
             "type": "data",
             "visible": true
            },
            "stacking": null
           },
           "seriesOptions": {
            "column_ab28602529": {
             "name": "TotalSales",
             "yAxis": 0
            }
           },
           "showDataLabels": false,
           "sizemode": "diameter",
           "sortX": false,
           "sortY": true,
           "swappedAxes": true,
           "textFormat": "",
           "useAggregationsUi": true,
           "valuesOptions": {},
           "version": 2,
           "xAxis": {
            "labels": {
             "enabled": true
            },
            "type": "-"
           },
           "yAxis": [
            {
             "type": "-"
            },
            {
             "opposite": true,
             "type": "-"
            }
           ]
          }
         }
        ]
       },
       "datasetPreviewNameToCmdIdMap": {},
       "diffDeletes": [],
       "diffInserts": [],
       "displayType": "redashChart",
       "error": null,
       "errorDetails": null,
       "errorSummary": null,
       "errorTraceType": null,
       "finishTime": 0,
       "globalVars": {},
       "guid": "",
       "height": "auto",
       "hideCommandCode": false,
       "hideCommandResult": false,
       "iPythonMetadata": null,
       "inputWidgets": {},
       "isLockedInExamMode": false,
       "latestUser": "a user",
       "latestUserId": null,
       "listResultMetadata": null,
       "metadata": {
        "byteLimit": 2048000,
        "implicitDf": true,
        "rowLimit": 10000
       },
       "nuid": "c7481191-2803-43ba-a88d-eceb0f933082",
       "origId": 0,
       "parentHierarchy": [],
       "pivotAggregation": null,
       "pivotColumns": null,
       "position": 3.0,
       "resultDbfsErrorMessage": null,
       "resultDbfsStatus": "INLINED_IN_TREE",
       "results": null,
       "showCommandTitle": false,
       "startTime": 0,
       "state": "finished",
       "streamStates": {},
       "subcommandOptions": {
        "queryPlan": {
         "groups": [
          {
           "column": "CustomerName",
           "type": "column"
          }
         ],
         "selects": [
          {
           "column": "CustomerName",
           "type": "column"
          },
          {
           "alias": "column_ab28602529",
           "args": [
            {
             "column": "TotalSales",
             "type": "column"
            }
           ],
           "function": "SUM",
           "type": "function"
          }
         ]
        }
       },
       "submitTime": 0,
       "subtype": "tableResultSubCmd.visualization",
       "tableResultIndex": 0,
       "tableResultSettingsMap": {},
       "useConsistentColors": false,
       "version": "CommandV1",
       "width": "auto",
       "workflows": [],
       "xColumns": null,
       "yColumns": null
      }
     },
     "output_type": "display_data"
    }
   ],
   "source": [
    "%sql\n",
    "-- top customers\n",
    "select CustomerName, sum(SaleAmount) TotalSales \n",
    "from cogsleyservices_salesdata_us_csv\n",
    "group by CustomerName\n",
    "order by 2 desc \n",
    "limit 10"
   ]
  },
  {
   "cell_type": "code",
   "execution_count": 0,
   "metadata": {
    "application/vnd.databricks.v1+cell": {
     "cellMetadata": {
      "byteLimit": 2048000,
      "implicitDf": true,
      "rowLimit": 10000
     },
     "inputWidgets": {},
     "nuid": "69e144cb-2c52-40fc-a79d-490943266760",
     "showTitle": false,
     "tableResultSettingsMap": {},
     "title": ""
    }
   },
   "outputs": [
    {
     "output_type": "display_data",
     "data": {
      "text/html": [
       "<style scoped>\n",
       "  .table-result-container {\n",
       "    max-height: 300px;\n",
       "    overflow: auto;\n",
       "  }\n",
       "  table, th, td {\n",
       "    border: 1px solid black;\n",
       "    border-collapse: collapse;\n",
       "  }\n",
       "  th, td {\n",
       "    padding: 5px;\n",
       "  }\n",
       "  th {\n",
       "    text-align: left;\n",
       "  }\n",
       "</style><div class='table-result-container'><table class='table-result'><thead style='background-color: white'><tr><th>ProductCategory</th><th>TotalSales</th></tr></thead><tbody><tr><td>Development</td><td>1.6437797029999945E7</td></tr><tr><td>Consulting</td><td>7511609.6199999815</td></tr><tr><td>Training</td><td>5315590.830000002</td></tr></tbody></table></div>"
      ]
     },
     "metadata": {
      "application/vnd.databricks.v1+output": {
       "addedWidgets": {},
       "aggData": [],
       "aggError": "",
       "aggOverflow": false,
       "aggSchema": [],
       "aggSeriesLimitReached": false,
       "aggType": "",
       "arguments": {},
       "columnCustomDisplayInfos": {},
       "data": [
        [
         "Development",
         1.6437797029999945E7
        ],
        [
         "Consulting",
         7511609.6199999815
        ],
        [
         "Training",
         5315590.830000002
        ]
       ],
       "datasetInfos": [],
       "dbfsResultPath": null,
       "isJsonSchema": true,
       "metadata": {},
       "overflow": false,
       "plotOptions": {
        "customPlotOptions": {},
        "displayType": "table",
        "pivotAggregation": null,
        "pivotColumns": null,
        "xColumns": null,
        "yColumns": null
       },
       "removedWidgets": [],
       "schema": [
        {
         "metadata": "{}",
         "name": "ProductCategory",
         "type": "\"string\""
        },
        {
         "metadata": "{}",
         "name": "TotalSales",
         "type": "\"double\""
        }
       ],
       "type": "table"
      }
     },
     "output_type": "display_data"
    },
    {
     "output_type": "display_data",
     "data": {
      "text/plain": [
       "Databricks visualization. Run in Databricks to view."
      ]
     },
     "metadata": {
      "application/vnd.databricks.v1.subcommand+json": {
       "baseErrorDetails": null,
       "bindings": {},
       "collapsed": false,
       "command": "%sql WITH q AS (select ProductCategory, sum(SaleAmount) TotalSales\nfrom cogsleyservices_salesdata_us_csv\ngroup by ProductCategory\norder by 2 desc\nlimit 10) SELECT `ProductCategory`,SUM(`TotalSales`) `column_ab28602532` FROM q GROUP BY `ProductCategory`",
       "commandTitle": "Product category sales 1",
       "commandType": "auto",
       "commandVersion": 0,
       "commentThread": [],
       "commentsVisible": false,
       "contentSha256Hex": null,
       "customPlotOptions": {
        "redashChart": [
         {
          "key": "type",
          "value": "CHART"
         },
         {
          "key": "options",
          "value": {
           "alignYAxesAtZero": true,
           "coefficient": 1,
           "columnConfigurationMap": {
            "x": {
             "column": "ProductCategory",
             "id": "column_ab28602531"
            },
            "y": [
             {
              "column": "TotalSales",
              "id": "column_ab28602532",
              "transform": "SUM"
             }
            ]
           },
           "dateTimeFormat": "DD/MM/YYYY HH:mm",
           "direction": {
            "type": "counterclockwise"
           },
           "error_y": {
            "type": "data",
            "visible": true
           },
           "globalSeriesType": "column",
           "isAggregationOn": true,
           "legend": {
            "traceorder": "normal"
           },
           "missingValuesAsZero": true,
           "numberFormat": "0,0.[00000]",
           "percentFormat": "0[.]00%",
           "series": {
            "error_y": {
             "type": "data",
             "visible": true
            },
            "stacking": null
           },
           "seriesOptions": {
            "column_ab28602532": {
             "name": "TotalSales",
             "yAxis": 0
            }
           },
           "showDataLabels": false,
           "sizemode": "diameter",
           "sortX": false,
           "sortY": true,
           "swappedAxes": true,
           "textFormat": "",
           "useAggregationsUi": true,
           "valuesOptions": {},
           "version": 2,
           "xAxis": {
            "labels": {
             "enabled": true
            },
            "type": "-"
           },
           "yAxis": [
            {
             "type": "-"
            },
            {
             "opposite": true,
             "type": "-"
            }
           ]
          }
         }
        ]
       },
       "datasetPreviewNameToCmdIdMap": {},
       "diffDeletes": [],
       "diffInserts": [],
       "displayType": "redashChart",
       "error": null,
       "errorDetails": null,
       "errorSummary": null,
       "errorTraceType": null,
       "finishTime": 0,
       "globalVars": {},
       "guid": "",
       "height": "auto",
       "hideCommandCode": false,
       "hideCommandResult": false,
       "iPythonMetadata": null,
       "inputWidgets": {},
       "isLockedInExamMode": false,
       "latestUser": "a user",
       "latestUserId": null,
       "listResultMetadata": null,
       "metadata": {
        "byteLimit": 2048000,
        "implicitDf": true,
        "rowLimit": 10000
       },
       "nuid": "661546f1-ef7c-469b-a597-9c7c8ef515bc",
       "origId": 0,
       "parentHierarchy": [],
       "pivotAggregation": null,
       "pivotColumns": null,
       "position": 4.0,
       "resultDbfsErrorMessage": null,
       "resultDbfsStatus": "INLINED_IN_TREE",
       "results": null,
       "showCommandTitle": false,
       "startTime": 0,
       "state": "finished",
       "streamStates": {},
       "subcommandOptions": {
        "queryPlan": {
         "groups": [
          {
           "column": "ProductCategory",
           "type": "column"
          }
         ],
         "selects": [
          {
           "column": "ProductCategory",
           "type": "column"
          },
          {
           "alias": "column_ab28602532",
           "args": [
            {
             "column": "TotalSales",
             "type": "column"
            }
           ],
           "function": "SUM",
           "type": "function"
          }
         ]
        }
       },
       "submitTime": 0,
       "subtype": "tableResultSubCmd.visualization",
       "tableResultIndex": 0,
       "tableResultSettingsMap": {},
       "useConsistentColors": false,
       "version": "CommandV1",
       "width": "auto",
       "workflows": [],
       "xColumns": null,
       "yColumns": null
      }
     },
     "output_type": "display_data"
    }
   ],
   "source": [
    "%sql\n",
    "-- top product categories\n",
    "select ProductCategory, sum(SaleAmount) TotalSales\n",
    "from cogsleyservices_salesdata_us_csv\n",
    "group by ProductCategory\n",
    "order by 2 desc\n",
    "limit 10"
   ]
  }
 ],
 "metadata": {
  "application/vnd.databricks.v1+notebook": {
   "computePreferences": null,
   "dashboards": [
    {
     "elements": [
      {
       "dashboardResultIndex": null,
       "elementNUID": "661546f1-ef7c-469b-a597-9c7c8ef515bc",
       "elementType": "command",
       "guid": "47b9805b-acaa-4100-a602-2dfac7f7e1e5",
       "options": null,
       "position": {
        "height": 6,
        "width": 11,
        "x": 0,
        "y": 8,
        "z": null
       },
       "resultIndex": null
      },
      {
       "dashboardResultIndex": null,
       "elementNUID": "c7481191-2803-43ba-a88d-eceb0f933082",
       "elementType": "command",
       "guid": "734aa2a3-7092-403f-9344-9f214017ea92",
       "options": null,
       "position": {
        "height": 6,
        "width": 11,
        "x": 11,
        "y": 8,
        "z": null
       },
       "resultIndex": null
      },
      {
       "dashboardResultIndex": null,
       "elementNUID": "912a16d2-887a-4b72-963a-56bcd3b46592",
       "elementType": "command",
       "guid": "8ce2757c-7182-431e-b4a9-f338ead7c8e0",
       "options": null,
       "position": {
        "height": 8,
        "width": 22,
        "x": 0,
        "y": 0,
        "z": null
       },
       "resultIndex": null
      }
     ],
     "globalVars": {},
     "guid": "",
     "layoutOption": {
      "grid": true,
      "stack": true
     },
     "nuid": "7dc25490-42ba-45d0-82e8-6009b7a3af3c",
     "origId": 4333728153644374,
     "title": "Sales Overview",
     "version": "DashboardViewV1",
     "width": 1024
    }
   ],
   "environmentMetadata": {
    "base_environment": "",
    "client": "1"
   },
   "language": "python",
   "notebookMetadata": {
    "mostRecentlyExecutedCommandWithImplicitDF": {
     "commandId": 4333728153644373,
     "dataframes": [
      "_sqldf"
     ]
    },
    "pythonIndentUnit": 4
   },
   "notebookName": "databricks-practice-dashboard",
   "widgets": {}
  }
 },
 "nbformat": 4,
 "nbformat_minor": 0
}
